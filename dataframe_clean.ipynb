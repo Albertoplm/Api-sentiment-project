{
 "cells": [
  {
   "cell_type": "markdown",
   "metadata": {},
   "source": [
    "#### Descarga base kaggle"
   ]
  },
  {
   "cell_type": "code",
   "execution_count": 1,
   "metadata": {},
   "outputs": [
    {
     "name": "stdout",
     "output_type": "stream",
     "text": [
      "Downloading final-quotes-scraped.zip to C:\\Users\\Usuario\\Documents\\IRONHACK\\projects\\Api-sentiment-project\n",
      "\n"
     ]
    },
    {
     "name": "stderr",
     "output_type": "stream",
     "text": [
      "\n",
      "  0%|          | 0.00/7.08k [00:00<?, ?B/s]\n",
      "100%|##########| 7.08k/7.08k [00:00<00:00, 3.63MB/s]\n"
     ]
    }
   ],
   "source": [
    "!kaggle datasets download -d cerolacia/final-quotes-scraped"
   ]
  },
  {
   "cell_type": "code",
   "execution_count": 18,
   "metadata": {},
   "outputs": [
    {
     "name": "stderr",
     "output_type": "stream",
     "text": [
      "x finalQuotes.csv\n"
     ]
    }
   ],
   "source": [
    "!tar -xzvf final-quotes-scraped.zip"
   ]
  },
  {
   "cell_type": "code",
   "execution_count": 23,
   "metadata": {},
   "outputs": [
    {
     "name": "stdout",
     "output_type": "stream",
     "text": [
      "Se han movido         1 archivos.\n"
     ]
    }
   ],
   "source": [
    "!move finalQuotes.csv data/finalQuotes.csv"
   ]
  },
  {
   "cell_type": "markdown",
   "metadata": {},
   "source": [
    "#### Finalmente descargo una a mano"
   ]
  },
  {
   "cell_type": "code",
   "execution_count": 308,
   "metadata": {},
   "outputs": [
    {
     "data": {
      "text/html": [
       "<div>\n",
       "<style scoped>\n",
       "    .dataframe tbody tr th:only-of-type {\n",
       "        vertical-align: middle;\n",
       "    }\n",
       "\n",
       "    .dataframe tbody tr th {\n",
       "        vertical-align: top;\n",
       "    }\n",
       "\n",
       "    .dataframe thead th {\n",
       "        text-align: right;\n",
       "    }\n",
       "</style>\n",
       "<table border=\"1\" class=\"dataframe\">\n",
       "  <thead>\n",
       "    <tr style=\"text-align: right;\">\n",
       "      <th></th>\n",
       "      <th>title</th>\n",
       "      <th>author</th>\n",
       "      <th>tags</th>\n",
       "    </tr>\n",
       "  </thead>\n",
       "  <tbody>\n",
       "    <tr>\n",
       "      <th>0</th>\n",
       "      <td>It is better to keep your mouth closed and let...</td>\n",
       "      <td>Mark Twain</td>\n",
       "      <td>Fool, Your, Better</td>\n",
       "    </tr>\n",
       "    <tr>\n",
       "      <th>1</th>\n",
       "      <td>A certain amount of opposition is a great help...</td>\n",
       "      <td>Lewis Mumford</td>\n",
       "      <td>Great, Man, Wind</td>\n",
       "    </tr>\n",
       "    <tr>\n",
       "      <th>2</th>\n",
       "      <td>If you don't know where you are going, you mig...</td>\n",
       "      <td>Yogi Berra</td>\n",
       "      <td>Wind, Know, Where</td>\n",
       "    </tr>\n",
       "    <tr>\n",
       "      <th>3</th>\n",
       "      <td>You're either part of the solution or you're p...</td>\n",
       "      <td>Eldridge Cleaver</td>\n",
       "      <td>Solution, Problem, Either</td>\n",
       "    </tr>\n",
       "    <tr>\n",
       "      <th>4</th>\n",
       "      <td>Be nice to people on your way up because you'l...</td>\n",
       "      <td>Wilson Mizner</td>\n",
       "      <td>Your, Way, People</td>\n",
       "    </tr>\n",
       "  </tbody>\n",
       "</table>\n",
       "</div>"
      ],
      "text/plain": [
       "                                               title            author  \\\n",
       "0  It is better to keep your mouth closed and let...        Mark Twain   \n",
       "1  A certain amount of opposition is a great help...     Lewis Mumford   \n",
       "2  If you don't know where you are going, you mig...        Yogi Berra   \n",
       "3  You're either part of the solution or you're p...  Eldridge Cleaver   \n",
       "4  Be nice to people on your way up because you'l...     Wilson Mizner   \n",
       "\n",
       "                        tags  \n",
       "0         Fool, Your, Better  \n",
       "1           Great, Man, Wind  \n",
       "2          Wind, Know, Where  \n",
       "3  Solution, Problem, Either  \n",
       "4          Your, Way, People  "
      ]
     },
     "execution_count": 308,
     "metadata": {},
     "output_type": "execute_result"
    }
   ],
   "source": [
    "import pandas as pd\n",
    "df = pd.read_csv('data/brainy.csv')\n",
    "df.head()"
   ]
  },
  {
   "cell_type": "code",
   "execution_count": 309,
   "metadata": {},
   "outputs": [
    {
     "data": {
      "text/html": [
       "<div>\n",
       "<style scoped>\n",
       "    .dataframe tbody tr th:only-of-type {\n",
       "        vertical-align: middle;\n",
       "    }\n",
       "\n",
       "    .dataframe tbody tr th {\n",
       "        vertical-align: top;\n",
       "    }\n",
       "\n",
       "    .dataframe thead th {\n",
       "        text-align: right;\n",
       "    }\n",
       "</style>\n",
       "<table border=\"1\" class=\"dataframe\">\n",
       "  <thead>\n",
       "    <tr style=\"text-align: right;\">\n",
       "      <th></th>\n",
       "      <th>title</th>\n",
       "      <th>author</th>\n",
       "      <th>tags</th>\n",
       "      <th>tag1</th>\n",
       "      <th>tag2</th>\n",
       "      <th>tag3</th>\n",
       "      <th>tag4</th>\n",
       "      <th>tag5</th>\n",
       "      <th>tag6</th>\n",
       "    </tr>\n",
       "  </thead>\n",
       "  <tbody>\n",
       "    <tr>\n",
       "      <th>0</th>\n",
       "      <td>It is better to keep your mouth closed and let...</td>\n",
       "      <td>Mark Twain</td>\n",
       "      <td>Fool, Your, Better</td>\n",
       "      <td>Fool,</td>\n",
       "      <td>Your,</td>\n",
       "      <td>Better</td>\n",
       "      <td>None</td>\n",
       "      <td>None</td>\n",
       "      <td>None</td>\n",
       "    </tr>\n",
       "    <tr>\n",
       "      <th>1</th>\n",
       "      <td>A certain amount of opposition is a great help...</td>\n",
       "      <td>Lewis Mumford</td>\n",
       "      <td>Great, Man, Wind</td>\n",
       "      <td>Great,</td>\n",
       "      <td>Man,</td>\n",
       "      <td>Wind</td>\n",
       "      <td>None</td>\n",
       "      <td>None</td>\n",
       "      <td>None</td>\n",
       "    </tr>\n",
       "    <tr>\n",
       "      <th>2</th>\n",
       "      <td>If you don't know where you are going, you mig...</td>\n",
       "      <td>Yogi Berra</td>\n",
       "      <td>Wind, Know, Where</td>\n",
       "      <td>Wind,</td>\n",
       "      <td>Know,</td>\n",
       "      <td>Where</td>\n",
       "      <td>None</td>\n",
       "      <td>None</td>\n",
       "      <td>None</td>\n",
       "    </tr>\n",
       "    <tr>\n",
       "      <th>3</th>\n",
       "      <td>You're either part of the solution or you're p...</td>\n",
       "      <td>Eldridge Cleaver</td>\n",
       "      <td>Solution, Problem, Either</td>\n",
       "      <td>Solution,</td>\n",
       "      <td>Problem,</td>\n",
       "      <td>Either</td>\n",
       "      <td>None</td>\n",
       "      <td>None</td>\n",
       "      <td>None</td>\n",
       "    </tr>\n",
       "    <tr>\n",
       "      <th>4</th>\n",
       "      <td>Be nice to people on your way up because you'l...</td>\n",
       "      <td>Wilson Mizner</td>\n",
       "      <td>Your, Way, People</td>\n",
       "      <td>Your,</td>\n",
       "      <td>Way,</td>\n",
       "      <td>People</td>\n",
       "      <td>None</td>\n",
       "      <td>None</td>\n",
       "      <td>None</td>\n",
       "    </tr>\n",
       "    <tr>\n",
       "      <th>...</th>\n",
       "      <td>...</td>\n",
       "      <td>...</td>\n",
       "      <td>...</td>\n",
       "      <td>...</td>\n",
       "      <td>...</td>\n",
       "      <td>...</td>\n",
       "      <td>...</td>\n",
       "      <td>...</td>\n",
       "      <td>...</td>\n",
       "    </tr>\n",
       "    <tr>\n",
       "      <th>212</th>\n",
       "      <td>I was super brainy and a proper geek at school...</td>\n",
       "      <td>Ellie Goulding</td>\n",
       "      <td>Always, Me, Feeling</td>\n",
       "      <td>Always,</td>\n",
       "      <td>Me,</td>\n",
       "      <td>Feeling</td>\n",
       "      <td>None</td>\n",
       "      <td>None</td>\n",
       "      <td>None</td>\n",
       "    </tr>\n",
       "    <tr>\n",
       "      <th>213</th>\n",
       "      <td>You can't be taught to be brainy. You've eithe...</td>\n",
       "      <td>Samantha Fox</td>\n",
       "      <td>Either, Got, Taught</td>\n",
       "      <td>Either,</td>\n",
       "      <td>Got,</td>\n",
       "      <td>Taught</td>\n",
       "      <td>None</td>\n",
       "      <td>None</td>\n",
       "      <td>None</td>\n",
       "    </tr>\n",
       "    <tr>\n",
       "      <th>214</th>\n",
       "      <td>I'm reading a book, because I'm brainy. No, it...</td>\n",
       "      <td>Craig Ferguson</td>\n",
       "      <td>Know, Reading, Book</td>\n",
       "      <td>Know,</td>\n",
       "      <td>Reading,</td>\n",
       "      <td>Book</td>\n",
       "      <td>None</td>\n",
       "      <td>None</td>\n",
       "      <td>None</td>\n",
       "    </tr>\n",
       "    <tr>\n",
       "      <th>215</th>\n",
       "      <td>If kids and teenagers can get into a band, it'...</td>\n",
       "      <td>Ezra Koenig</td>\n",
       "      <td>Band, Think, Kids</td>\n",
       "      <td>Band,</td>\n",
       "      <td>Think,</td>\n",
       "      <td>Kids</td>\n",
       "      <td>None</td>\n",
       "      <td>None</td>\n",
       "      <td>None</td>\n",
       "    </tr>\n",
       "    <tr>\n",
       "      <th>216</th>\n",
       "      <td>I always knew I was brainy. It struck me when ...</td>\n",
       "      <td>Maximillian Degenerez</td>\n",
       "      <td>Always, Me, Children</td>\n",
       "      <td>Always,</td>\n",
       "      <td>Me,</td>\n",
       "      <td>Children</td>\n",
       "      <td>None</td>\n",
       "      <td>None</td>\n",
       "      <td>None</td>\n",
       "    </tr>\n",
       "  </tbody>\n",
       "</table>\n",
       "<p>217 rows × 9 columns</p>\n",
       "</div>"
      ],
      "text/plain": [
       "                                                 title                 author  \\\n",
       "0    It is better to keep your mouth closed and let...             Mark Twain   \n",
       "1    A certain amount of opposition is a great help...          Lewis Mumford   \n",
       "2    If you don't know where you are going, you mig...             Yogi Berra   \n",
       "3    You're either part of the solution or you're p...       Eldridge Cleaver   \n",
       "4    Be nice to people on your way up because you'l...          Wilson Mizner   \n",
       "..                                                 ...                    ...   \n",
       "212  I was super brainy and a proper geek at school...         Ellie Goulding   \n",
       "213  You can't be taught to be brainy. You've eithe...           Samantha Fox   \n",
       "214  I'm reading a book, because I'm brainy. No, it...         Craig Ferguson   \n",
       "215  If kids and teenagers can get into a band, it'...            Ezra Koenig   \n",
       "216  I always knew I was brainy. It struck me when ...  Maximillian Degenerez   \n",
       "\n",
       "                          tags       tag1      tag2      tag3  tag4  tag5  \\\n",
       "0           Fool, Your, Better      Fool,     Your,    Better  None  None   \n",
       "1             Great, Man, Wind     Great,      Man,      Wind  None  None   \n",
       "2            Wind, Know, Where      Wind,     Know,     Where  None  None   \n",
       "3    Solution, Problem, Either  Solution,  Problem,    Either  None  None   \n",
       "4            Your, Way, People      Your,      Way,    People  None  None   \n",
       "..                         ...        ...       ...       ...   ...   ...   \n",
       "212        Always, Me, Feeling    Always,       Me,   Feeling  None  None   \n",
       "213        Either, Got, Taught    Either,      Got,    Taught  None  None   \n",
       "214        Know, Reading, Book      Know,  Reading,      Book  None  None   \n",
       "215          Band, Think, Kids      Band,    Think,      Kids  None  None   \n",
       "216       Always, Me, Children    Always,       Me,  Children  None  None   \n",
       "\n",
       "     tag6  \n",
       "0    None  \n",
       "1    None  \n",
       "2    None  \n",
       "3    None  \n",
       "4    None  \n",
       "..    ...  \n",
       "212  None  \n",
       "213  None  \n",
       "214  None  \n",
       "215  None  \n",
       "216  None  \n",
       "\n",
       "[217 rows x 9 columns]"
      ]
     },
     "execution_count": 309,
     "metadata": {},
     "output_type": "execute_result"
    }
   ],
   "source": [
    "tags = df[\"tags\"].str.split(expand=True)\n",
    "tags.columns = ['tag1', 'tag2', 'tag3', 'tag4', 'tag5', 'tag6']\n",
    "df = pd.concat([df, tags], axis=1)\n",
    "df"
   ]
  },
  {
   "cell_type": "code",
   "execution_count": 310,
   "metadata": {},
   "outputs": [],
   "source": [
    "df['tag1'] = df['tag1'].str.replace(\",\", \"\")\n",
    "df['tag2'] = df['tag2'].str.replace(\",\", \"\")\n",
    "df['tag3'] = df['tag3'].str.replace(\",\", \"\")\n",
    "df['tag4'] = df['tag4'].str.replace(\",\", \"\")\n",
    "df['tag5'] = df['tag5'].str.replace(\",\", \"\")\n",
    "df['tag6'] = df['tag6'].str.replace(\",\", \"\")"
   ]
  },
  {
   "cell_type": "code",
   "execution_count": 311,
   "metadata": {},
   "outputs": [],
   "source": [
    "df = df.drop(['tags'], axis=1)"
   ]
  },
  {
   "cell_type": "code",
   "execution_count": 314,
   "metadata": {},
   "outputs": [],
   "source": [
    "df.columns = ['quote', 'author', 'tag1', 'tag2', 'tag3', 'tag4', 'tag5', 'tag6']"
   ]
  },
  {
   "cell_type": "code",
   "execution_count": 316,
   "metadata": {},
   "outputs": [],
   "source": [
    "df.to_csv('data/quotes.csv', index=False)"
   ]
  },
  {
   "cell_type": "code",
   "execution_count": 317,
   "metadata": {},
   "outputs": [],
   "source": [
    "df.to_json(\"data/quotes.json\", orient=\"records\")"
   ]
  },
  {
   "cell_type": "code",
   "execution_count": 367,
   "metadata": {},
   "outputs": [],
   "source": [
    "tags = []\n",
    "tag = ['tag1', 'tag2', 'tag3', 'tag4', 'tag5', 'tag6']\n",
    "for t in tag:\n",
    "    for d in df[t].unique():\n",
    "        tags.append(d)"
   ]
  },
  {
   "cell_type": "code",
   "execution_count": 369,
   "metadata": {},
   "outputs": [],
   "source": [
    "tags = set(tags)"
   ]
  },
  {
   "cell_type": "code",
   "execution_count": 370,
   "metadata": {},
   "outputs": [
    {
     "data": {
      "text/plain": [
       "387"
      ]
     },
     "execution_count": 370,
     "metadata": {},
     "output_type": "execute_result"
    }
   ],
   "source": [
    "len(tags)"
   ]
  },
  {
   "cell_type": "code",
   "execution_count": 371,
   "metadata": {},
   "outputs": [],
   "source": [
    "author = []\n",
    "for d in df['author'].unique():\n",
    "        author.append(d)"
   ]
  },
  {
   "cell_type": "code",
   "execution_count": 375,
   "metadata": {},
   "outputs": [
    {
     "data": {
      "text/plain": [
       "188"
      ]
     },
     "execution_count": 375,
     "metadata": {},
     "output_type": "execute_result"
    }
   ],
   "source": [
    "len(author)"
   ]
  },
  {
   "cell_type": "code",
   "execution_count": 380,
   "metadata": {},
   "outputs": [
    {
     "data": {
      "text/plain": [
       "(217,)"
      ]
     },
     "execution_count": 380,
     "metadata": {},
     "output_type": "execute_result"
    }
   ],
   "source": [
    "df['author'].shape"
   ]
  }
 ],
 "metadata": {
  "kernelspec": {
   "display_name": "Python 3",
   "language": "python",
   "name": "python3"
  },
  "language_info": {
   "codemirror_mode": {
    "name": "ipython",
    "version": 3
   },
   "file_extension": ".py",
   "mimetype": "text/x-python",
   "name": "python",
   "nbconvert_exporter": "python",
   "pygments_lexer": "ipython3",
   "version": "3.8.5"
  }
 },
 "nbformat": 4,
 "nbformat_minor": 4
}
