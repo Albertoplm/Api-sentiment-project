{
 "cells": [
  {
   "cell_type": "code",
   "execution_count": 56,
   "metadata": {},
   "outputs": [],
   "source": [
    "import pandas as pd\n",
    "import nltk\n",
    "from nltk.sentiment.vader import SentimentIntensityAnalyzer\n",
    "from nltk.tokenize import RegexpTokenizer\n",
    "from nltk.corpus import stopwords\n",
    "import matplotlib.pyplot as plt\n",
    "import plotly"
   ]
  },
  {
   "cell_type": "code",
   "execution_count": null,
   "metadata": {},
   "outputs": [],
   "source": [
    "nltk.download('punkt')\n",
    "nltk.download('vader_lexicon')"
   ]
  },
  {
   "cell_type": "code",
   "execution_count": 24,
   "metadata": {},
   "outputs": [
    {
     "data": {
      "text/html": [
       "<div>\n",
       "<style scoped>\n",
       "    .dataframe tbody tr th:only-of-type {\n",
       "        vertical-align: middle;\n",
       "    }\n",
       "\n",
       "    .dataframe tbody tr th {\n",
       "        vertical-align: top;\n",
       "    }\n",
       "\n",
       "    .dataframe thead th {\n",
       "        text-align: right;\n",
       "    }\n",
       "</style>\n",
       "<table border=\"1\" class=\"dataframe\">\n",
       "  <thead>\n",
       "    <tr style=\"text-align: right;\">\n",
       "      <th></th>\n",
       "      <th>quote</th>\n",
       "      <th>author</th>\n",
       "      <th>tag1</th>\n",
       "      <th>tag2</th>\n",
       "      <th>tag3</th>\n",
       "      <th>tag4</th>\n",
       "      <th>tag5</th>\n",
       "      <th>tag6</th>\n",
       "    </tr>\n",
       "  </thead>\n",
       "  <tbody>\n",
       "    <tr>\n",
       "      <th>0</th>\n",
       "      <td>It is better to keep your mouth closed and let...</td>\n",
       "      <td>Mark Twain</td>\n",
       "      <td>Fool</td>\n",
       "      <td>Your</td>\n",
       "      <td>Better</td>\n",
       "      <td>NaN</td>\n",
       "      <td>NaN</td>\n",
       "      <td>NaN</td>\n",
       "    </tr>\n",
       "    <tr>\n",
       "      <th>1</th>\n",
       "      <td>A certain amount of opposition is a great help...</td>\n",
       "      <td>Lewis Mumford</td>\n",
       "      <td>Great</td>\n",
       "      <td>Man</td>\n",
       "      <td>Wind</td>\n",
       "      <td>NaN</td>\n",
       "      <td>NaN</td>\n",
       "      <td>NaN</td>\n",
       "    </tr>\n",
       "    <tr>\n",
       "      <th>2</th>\n",
       "      <td>If you don't know where you are going, you mig...</td>\n",
       "      <td>Yogi Berra</td>\n",
       "      <td>Wind</td>\n",
       "      <td>Know</td>\n",
       "      <td>Where</td>\n",
       "      <td>NaN</td>\n",
       "      <td>NaN</td>\n",
       "      <td>NaN</td>\n",
       "    </tr>\n",
       "    <tr>\n",
       "      <th>3</th>\n",
       "      <td>You're either part of the solution or you're p...</td>\n",
       "      <td>Eldridge Cleaver</td>\n",
       "      <td>Solution</td>\n",
       "      <td>Problem</td>\n",
       "      <td>Either</td>\n",
       "      <td>NaN</td>\n",
       "      <td>NaN</td>\n",
       "      <td>NaN</td>\n",
       "    </tr>\n",
       "    <tr>\n",
       "      <th>4</th>\n",
       "      <td>Be nice to people on your way up because you'l...</td>\n",
       "      <td>Wilson Mizner</td>\n",
       "      <td>Your</td>\n",
       "      <td>Way</td>\n",
       "      <td>People</td>\n",
       "      <td>NaN</td>\n",
       "      <td>NaN</td>\n",
       "      <td>NaN</td>\n",
       "    </tr>\n",
       "  </tbody>\n",
       "</table>\n",
       "</div>"
      ],
      "text/plain": [
       "                                               quote            author  \\\n",
       "0  It is better to keep your mouth closed and let...        Mark Twain   \n",
       "1  A certain amount of opposition is a great help...     Lewis Mumford   \n",
       "2  If you don't know where you are going, you mig...        Yogi Berra   \n",
       "3  You're either part of the solution or you're p...  Eldridge Cleaver   \n",
       "4  Be nice to people on your way up because you'l...     Wilson Mizner   \n",
       "\n",
       "       tag1     tag2    tag3 tag4 tag5 tag6  \n",
       "0      Fool     Your  Better  NaN  NaN  NaN  \n",
       "1     Great      Man    Wind  NaN  NaN  NaN  \n",
       "2      Wind     Know   Where  NaN  NaN  NaN  \n",
       "3  Solution  Problem  Either  NaN  NaN  NaN  \n",
       "4      Your      Way  People  NaN  NaN  NaN  "
      ]
     },
     "execution_count": 24,
     "metadata": {},
     "output_type": "execute_result"
    }
   ],
   "source": [
    "df = pd.read_csv('data/quotes.csv')\n",
    "df.head()"
   ]
  },
  {
   "cell_type": "code",
   "execution_count": 17,
   "metadata": {},
   "outputs": [],
   "source": [
    "def sentimentAnalysis(sentence):\n",
    "    sia = SentimentIntensityAnalyzer()\n",
    "    polarity = sia.polarity_scores(sentence)\n",
    "    pol = polarity['compound']\n",
    "    return pol"
   ]
  },
  {
   "cell_type": "code",
   "execution_count": 25,
   "metadata": {},
   "outputs": [],
   "source": [
    "df['sentiment_compound'] = df.quote.apply(sentimentAnalysis)"
   ]
  },
  {
   "cell_type": "code",
   "execution_count": 40,
   "metadata": {},
   "outputs": [],
   "source": [
    "df.to_csv('data/quotes_sentiment.csv', index=False)"
   ]
  },
  {
   "cell_type": "code",
   "execution_count": 41,
   "metadata": {},
   "outputs": [],
   "source": [
    "df.to_json(\"data/quotes_sentiment.json\", orient=\"records\")"
   ]
  },
  {
   "cell_type": "code",
   "execution_count": 28,
   "metadata": {},
   "outputs": [
    {
     "data": {
      "text/html": [
       "<div>\n",
       "<style scoped>\n",
       "    .dataframe tbody tr th:only-of-type {\n",
       "        vertical-align: middle;\n",
       "    }\n",
       "\n",
       "    .dataframe tbody tr th {\n",
       "        vertical-align: top;\n",
       "    }\n",
       "\n",
       "    .dataframe thead th {\n",
       "        text-align: right;\n",
       "    }\n",
       "</style>\n",
       "<table border=\"1\" class=\"dataframe\">\n",
       "  <thead>\n",
       "    <tr style=\"text-align: right;\">\n",
       "      <th></th>\n",
       "      <th>quote</th>\n",
       "      <th>author</th>\n",
       "      <th>tag1</th>\n",
       "      <th>tag2</th>\n",
       "      <th>tag3</th>\n",
       "      <th>tag4</th>\n",
       "      <th>tag5</th>\n",
       "      <th>tag6</th>\n",
       "      <th>sentiment_compound</th>\n",
       "    </tr>\n",
       "  </thead>\n",
       "  <tbody>\n",
       "    <tr>\n",
       "      <th>0</th>\n",
       "      <td>It is better to keep your mouth closed and let...</td>\n",
       "      <td>Mark Twain</td>\n",
       "      <td>Fool</td>\n",
       "      <td>Your</td>\n",
       "      <td>Better</td>\n",
       "      <td>NaN</td>\n",
       "      <td>NaN</td>\n",
       "      <td>NaN</td>\n",
       "      <td>-0.3612</td>\n",
       "    </tr>\n",
       "    <tr>\n",
       "      <th>1</th>\n",
       "      <td>A certain amount of opposition is a great help...</td>\n",
       "      <td>Lewis Mumford</td>\n",
       "      <td>Great</td>\n",
       "      <td>Man</td>\n",
       "      <td>Wind</td>\n",
       "      <td>NaN</td>\n",
       "      <td>NaN</td>\n",
       "      <td>NaN</td>\n",
       "      <td>0.8360</td>\n",
       "    </tr>\n",
       "    <tr>\n",
       "      <th>2</th>\n",
       "      <td>If you don't know where you are going, you mig...</td>\n",
       "      <td>Yogi Berra</td>\n",
       "      <td>Wind</td>\n",
       "      <td>Know</td>\n",
       "      <td>Where</td>\n",
       "      <td>NaN</td>\n",
       "      <td>NaN</td>\n",
       "      <td>NaN</td>\n",
       "      <td>0.0000</td>\n",
       "    </tr>\n",
       "    <tr>\n",
       "      <th>3</th>\n",
       "      <td>You're either part of the solution or you're p...</td>\n",
       "      <td>Eldridge Cleaver</td>\n",
       "      <td>Solution</td>\n",
       "      <td>Problem</td>\n",
       "      <td>Either</td>\n",
       "      <td>NaN</td>\n",
       "      <td>NaN</td>\n",
       "      <td>NaN</td>\n",
       "      <td>-0.1027</td>\n",
       "    </tr>\n",
       "    <tr>\n",
       "      <th>4</th>\n",
       "      <td>Be nice to people on your way up because you'l...</td>\n",
       "      <td>Wilson Mizner</td>\n",
       "      <td>Your</td>\n",
       "      <td>Way</td>\n",
       "      <td>People</td>\n",
       "      <td>NaN</td>\n",
       "      <td>NaN</td>\n",
       "      <td>NaN</td>\n",
       "      <td>0.4215</td>\n",
       "    </tr>\n",
       "    <tr>\n",
       "      <th>...</th>\n",
       "      <td>...</td>\n",
       "      <td>...</td>\n",
       "      <td>...</td>\n",
       "      <td>...</td>\n",
       "      <td>...</td>\n",
       "      <td>...</td>\n",
       "      <td>...</td>\n",
       "      <td>...</td>\n",
       "      <td>...</td>\n",
       "    </tr>\n",
       "    <tr>\n",
       "      <th>212</th>\n",
       "      <td>I was super brainy and a proper geek at school...</td>\n",
       "      <td>Ellie Goulding</td>\n",
       "      <td>Always</td>\n",
       "      <td>Me</td>\n",
       "      <td>Feeling</td>\n",
       "      <td>NaN</td>\n",
       "      <td>NaN</td>\n",
       "      <td>NaN</td>\n",
       "      <td>0.0414</td>\n",
       "    </tr>\n",
       "    <tr>\n",
       "      <th>213</th>\n",
       "      <td>You can't be taught to be brainy. You've eithe...</td>\n",
       "      <td>Samantha Fox</td>\n",
       "      <td>Either</td>\n",
       "      <td>Got</td>\n",
       "      <td>Taught</td>\n",
       "      <td>NaN</td>\n",
       "      <td>NaN</td>\n",
       "      <td>NaN</td>\n",
       "      <td>0.0000</td>\n",
       "    </tr>\n",
       "    <tr>\n",
       "      <th>214</th>\n",
       "      <td>I'm reading a book, because I'm brainy. No, it...</td>\n",
       "      <td>Craig Ferguson</td>\n",
       "      <td>Know</td>\n",
       "      <td>Reading</td>\n",
       "      <td>Book</td>\n",
       "      <td>NaN</td>\n",
       "      <td>NaN</td>\n",
       "      <td>NaN</td>\n",
       "      <td>0.0772</td>\n",
       "    </tr>\n",
       "    <tr>\n",
       "      <th>215</th>\n",
       "      <td>If kids and teenagers can get into a band, it'...</td>\n",
       "      <td>Ezra Koenig</td>\n",
       "      <td>Band</td>\n",
       "      <td>Think</td>\n",
       "      <td>Kids</td>\n",
       "      <td>NaN</td>\n",
       "      <td>NaN</td>\n",
       "      <td>NaN</td>\n",
       "      <td>0.0000</td>\n",
       "    </tr>\n",
       "    <tr>\n",
       "      <th>216</th>\n",
       "      <td>I always knew I was brainy. It struck me when ...</td>\n",
       "      <td>Maximillian Degenerez</td>\n",
       "      <td>Always</td>\n",
       "      <td>Me</td>\n",
       "      <td>Children</td>\n",
       "      <td>NaN</td>\n",
       "      <td>NaN</td>\n",
       "      <td>NaN</td>\n",
       "      <td>-0.2500</td>\n",
       "    </tr>\n",
       "  </tbody>\n",
       "</table>\n",
       "<p>217 rows × 9 columns</p>\n",
       "</div>"
      ],
      "text/plain": [
       "                                                 quote                 author  \\\n",
       "0    It is better to keep your mouth closed and let...             Mark Twain   \n",
       "1    A certain amount of opposition is a great help...          Lewis Mumford   \n",
       "2    If you don't know where you are going, you mig...             Yogi Berra   \n",
       "3    You're either part of the solution or you're p...       Eldridge Cleaver   \n",
       "4    Be nice to people on your way up because you'l...          Wilson Mizner   \n",
       "..                                                 ...                    ...   \n",
       "212  I was super brainy and a proper geek at school...         Ellie Goulding   \n",
       "213  You can't be taught to be brainy. You've eithe...           Samantha Fox   \n",
       "214  I'm reading a book, because I'm brainy. No, it...         Craig Ferguson   \n",
       "215  If kids and teenagers can get into a band, it'...            Ezra Koenig   \n",
       "216  I always knew I was brainy. It struck me when ...  Maximillian Degenerez   \n",
       "\n",
       "         tag1     tag2      tag3 tag4 tag5 tag6  sentiment_compound  \n",
       "0        Fool     Your    Better  NaN  NaN  NaN             -0.3612  \n",
       "1       Great      Man      Wind  NaN  NaN  NaN              0.8360  \n",
       "2        Wind     Know     Where  NaN  NaN  NaN              0.0000  \n",
       "3    Solution  Problem    Either  NaN  NaN  NaN             -0.1027  \n",
       "4        Your      Way    People  NaN  NaN  NaN              0.4215  \n",
       "..        ...      ...       ...  ...  ...  ...                 ...  \n",
       "212    Always       Me   Feeling  NaN  NaN  NaN              0.0414  \n",
       "213    Either      Got    Taught  NaN  NaN  NaN              0.0000  \n",
       "214      Know  Reading      Book  NaN  NaN  NaN              0.0772  \n",
       "215      Band    Think      Kids  NaN  NaN  NaN              0.0000  \n",
       "216    Always       Me  Children  NaN  NaN  NaN             -0.2500  \n",
       "\n",
       "[217 rows x 9 columns]"
      ]
     },
     "execution_count": 28,
     "metadata": {},
     "output_type": "execute_result"
    }
   ],
   "source": [
    "df"
   ]
  },
  {
   "cell_type": "code",
   "execution_count": 37,
   "metadata": {},
   "outputs": [
    {
     "data": {
      "text/plain": [
       "author\n",
       "James Joyce                   0.6369\n",
       "Ansel Adams                   0.6486\n",
       "Evan Davis                    0.6597\n",
       "John Ruskin                   0.6761\n",
       "Saul Bellow                   0.6908\n",
       "Robert Staughton Lynd         0.7096\n",
       "Johann Wolfgang von Goethe    0.7172\n",
       "Gilbert Parker                0.7184\n",
       "Theodore Roosevelt            0.7351\n",
       "Thomas a Kempis               0.7359\n",
       "Ivan Turgenev                 0.7717\n",
       "Joseph Roux                   0.7717\n",
       "Charles Baudelaire            0.7845\n",
       "Charles Simmons               0.7845\n",
       "Ninon de L'Enclos             0.7906\n",
       "Josh Hutcherson               0.8002\n",
       "Albert Ellis                  0.8316\n",
       "Lewis Mumford                 0.8360\n",
       "Paula Pell                    0.9129\n",
       "Nelly Furtado                 0.9512\n",
       "Name: sentiment_compound, dtype: float64"
      ]
     },
     "execution_count": 37,
     "metadata": {},
     "output_type": "execute_result"
    }
   ],
   "source": [
    "resumen = df.groupby(['author'])['sentiment_compound'].mean().sort_values()\n",
    "resumen"
   ]
  },
  {
   "cell_type": "code",
   "execution_count": 38,
   "metadata": {},
   "outputs": [
    {
     "data": {
      "text/plain": [
       "<AxesSubplot:xlabel='author'>"
      ]
     },
     "execution_count": 38,
     "metadata": {},
     "output_type": "execute_result"
    },
    {
     "data": {
      "image/png": "[encoded data removed]",
      "text/plain": [
       "<Figure size 432x288 with 1 Axes>"
      ]
     },
     "metadata": {
      "needs_background": "light"
     },
     "output_type": "display_data"
    }
   ],
   "source": [
    "resumen.tail(20).plot(kind=\"bar\")"
   ]
  },
  {
   "cell_type": "code",
   "execution_count": 39,
   "metadata": {},
   "outputs": [
    {
     "data": {
      "text/plain": [
       "<AxesSubplot:xlabel='author'>"
      ]
     },
     "execution_count": 39,
     "metadata": {},
     "output_type": "execute_result"
    },
    {
     "data": {
      "image/png": "[encoded data removed]",
      "text/plain": [
       "<Figure size 432x288 with 1 Axes>"
      ]
     },
     "metadata": {
      "needs_background": "light"
     },
     "output_type": "display_data"
    }
   ],
   "source": [
    "resumen.head(20).plot(kind=\"bar\")"
   ]
  },
  {
   "cell_type": "code",
   "execution_count": 64,
   "metadata": {},
   "outputs": [
    {
     "data": {
      "text/plain": [
       "<AxesSubplot:title={'center':'Sentiment Polarity Distribution'}, ylabel='Frequency'>"
      ]
     },
     "execution_count": 64,
     "metadata": {},
     "output_type": "execute_result"
    },
    {
     "data": {
      "image/png": "[encoded data removed]",
      "text/plain": [
       "<Figure size 432x288 with 1 Axes>"
      ]
     },
     "metadata": {
      "needs_background": "light"
     },
     "output_type": "display_data"
    }
   ],
   "source": [
    "df['sentiment_compound'].plot(\n",
    "    kind='hist',\n",
    "    bins=20,\n",
    "    title='Sentiment Polarity Distribution')"
   ]
  },
  {
   "cell_type": "code",
   "execution_count": null,
   "metadata": {},
   "outputs": [],
   "source": []
  }
 ],
 "metadata": {
  "kernelspec": {
   "display_name": "Python 3",
   "language": "python",
   "name": "python3"
  },
  "language_info": {
   "codemirror_mode": {
    "name": "ipython",
    "version": 3
   },
   "file_extension": ".py",
   "mimetype": "text/x-python",
   "name": "python",
   "nbconvert_exporter": "python",
   "pygments_lexer": "ipython3",
   "version": "3.8.5"
  }
 },
 "nbformat": 4,
 "nbformat_minor": 4
}
