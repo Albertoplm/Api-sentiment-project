{
 "cells": [
  {
   "cell_type": "code",
   "execution_count": 3,
   "metadata": {},
   "outputs": [],
   "source": [
    "from pymongo import MongoClient\n",
    "import requests\n",
    "import pandas as pd\n",
    "import os\n",
    "import dotenv"
   ]
  },
  {
   "cell_type": "markdown",
   "metadata": {},
   "source": [
    "#### Query conociendo el endpoint"
   ]
  },
  {
   "cell_type": "code",
   "execution_count": 6,
   "metadata": {},
   "outputs": [],
   "source": [
    "url = \"http://localhost:5000/quotes/Matthew Henry\""
   ]
  },
  {
   "cell_type": "code",
   "execution_count": 7,
   "metadata": {},
   "outputs": [],
   "source": [
    "res = requests.get(url).headers"
   ]
  },
  {
   "cell_type": "code",
   "execution_count": 8,
   "metadata": {},
   "outputs": [
    {
     "data": {
      "text/plain": [
       "{'Content-Type': 'application/json', 'Content-Length': '264', 'Server': 'Werkzeug/1.0.1 Python/3.8.5', 'Date': 'Sun, 02 May 2021 14:02:49 GMT'}"
      ]
     },
     "execution_count": 8,
     "metadata": {},
     "output_type": "execute_result"
    }
   ],
   "source": [
    "res"
   ]
  },
  {
   "cell_type": "code",
   "execution_count": 9,
   "metadata": {},
   "outputs": [],
   "source": [
    "res = requests.get(url).json()"
   ]
  },
  {
   "cell_type": "code",
   "execution_count": 10,
   "metadata": {},
   "outputs": [
    {
     "data": {
      "text/plain": [
       "[{'author': 'Matthew Henry',\n",
       "  'quote': 'None so deaf as those that will not hear. None so blind as those that will not see.',\n",
       "  'tag1': 'Blind',\n",
       "  'tag2': 'Will',\n",
       "  'tag3': 'Deaf',\n",
       "  'tag4': None,\n",
       "  'tag5': None,\n",
       "  'tag6': None}]"
      ]
     },
     "execution_count": 10,
     "metadata": {},
     "output_type": "execute_result"
    }
   ],
   "source": [
    "res"
   ]
  },
  {
   "cell_type": "markdown",
   "metadata": {},
   "source": [
    "#### Subir datos"
   ]
  },
  {
   "cell_type": "code",
   "execution_count": 11,
   "metadata": {},
   "outputs": [],
   "source": [
    "datos = {\"quote\": 'TEST',\n",
    "    \"author\": 'Alberto Pérez-Lescure',\n",
    "    \"tag1\": 'Alberto',\n",
    "    }"
   ]
  },
  {
   "cell_type": "code",
   "execution_count": 12,
   "metadata": {},
   "outputs": [],
   "source": [
    "url = \"http://localhost:5000/newquote\""
   ]
  },
  {
   "cell_type": "code",
   "execution_count": 13,
   "metadata": {},
   "outputs": [],
   "source": [
    "hola = requests.post(url, data=datos)"
   ]
  },
  {
   "cell_type": "code",
   "execution_count": 14,
   "metadata": {},
   "outputs": [
    {
     "data": {
      "text/plain": [
       "b'Se ha introducido la quote en la base de datos'"
      ]
     },
     "execution_count": 14,
     "metadata": {},
     "output_type": "execute_result"
    }
   ],
   "source": [
    "hola.content"
   ]
  },
  {
   "cell_type": "markdown",
   "metadata": {},
   "source": [
    "##### Subir base"
   ]
  },
  {
   "cell_type": "code",
   "execution_count": 2,
   "metadata": {},
   "outputs": [
    {
     "data": {
      "text/html": [
       "<div>\n",
       "<style scoped>\n",
       "    .dataframe tbody tr th:only-of-type {\n",
       "        vertical-align: middle;\n",
       "    }\n",
       "\n",
       "    .dataframe tbody tr th {\n",
       "        vertical-align: top;\n",
       "    }\n",
       "\n",
       "    .dataframe thead th {\n",
       "        text-align: right;\n",
       "    }\n",
       "</style>\n",
       "<table border=\"1\" class=\"dataframe\">\n",
       "  <thead>\n",
       "    <tr style=\"text-align: right;\">\n",
       "      <th></th>\n",
       "      <th>quote</th>\n",
       "      <th>author</th>\n",
       "      <th>tag1</th>\n",
       "      <th>tag2</th>\n",
       "      <th>tag3</th>\n",
       "      <th>tag4</th>\n",
       "      <th>tag5</th>\n",
       "      <th>tag6</th>\n",
       "      <th>sentiment_compound</th>\n",
       "    </tr>\n",
       "  </thead>\n",
       "  <tbody>\n",
       "    <tr>\n",
       "      <th>0</th>\n",
       "      <td>It is better to keep your mouth closed and let...</td>\n",
       "      <td>Mark Twain</td>\n",
       "      <td>Fool</td>\n",
       "      <td>Your</td>\n",
       "      <td>Better</td>\n",
       "      <td>NaN</td>\n",
       "      <td>NaN</td>\n",
       "      <td>NaN</td>\n",
       "      <td>-0.3612</td>\n",
       "    </tr>\n",
       "    <tr>\n",
       "      <th>1</th>\n",
       "      <td>A certain amount of opposition is a great help...</td>\n",
       "      <td>Lewis Mumford</td>\n",
       "      <td>Great</td>\n",
       "      <td>Man</td>\n",
       "      <td>Wind</td>\n",
       "      <td>NaN</td>\n",
       "      <td>NaN</td>\n",
       "      <td>NaN</td>\n",
       "      <td>0.8360</td>\n",
       "    </tr>\n",
       "    <tr>\n",
       "      <th>2</th>\n",
       "      <td>If you don't know where you are going, you mig...</td>\n",
       "      <td>Yogi Berra</td>\n",
       "      <td>Wind</td>\n",
       "      <td>Know</td>\n",
       "      <td>Where</td>\n",
       "      <td>NaN</td>\n",
       "      <td>NaN</td>\n",
       "      <td>NaN</td>\n",
       "      <td>0.0000</td>\n",
       "    </tr>\n",
       "    <tr>\n",
       "      <th>3</th>\n",
       "      <td>You're either part of the solution or you're p...</td>\n",
       "      <td>Eldridge Cleaver</td>\n",
       "      <td>Solution</td>\n",
       "      <td>Problem</td>\n",
       "      <td>Either</td>\n",
       "      <td>NaN</td>\n",
       "      <td>NaN</td>\n",
       "      <td>NaN</td>\n",
       "      <td>-0.1027</td>\n",
       "    </tr>\n",
       "    <tr>\n",
       "      <th>4</th>\n",
       "      <td>Be nice to people on your way up because you'l...</td>\n",
       "      <td>Wilson Mizner</td>\n",
       "      <td>Your</td>\n",
       "      <td>Way</td>\n",
       "      <td>People</td>\n",
       "      <td>NaN</td>\n",
       "      <td>NaN</td>\n",
       "      <td>NaN</td>\n",
       "      <td>0.4215</td>\n",
       "    </tr>\n",
       "  </tbody>\n",
       "</table>\n",
       "</div>"
      ],
      "text/plain": [
       "                                               quote            author  \\\n",
       "0  It is better to keep your mouth closed and let...        Mark Twain   \n",
       "1  A certain amount of opposition is a great help...     Lewis Mumford   \n",
       "2  If you don't know where you are going, you mig...        Yogi Berra   \n",
       "3  You're either part of the solution or you're p...  Eldridge Cleaver   \n",
       "4  Be nice to people on your way up because you'l...     Wilson Mizner   \n",
       "\n",
       "       tag1     tag2    tag3 tag4 tag5 tag6  sentiment_compound  \n",
       "0      Fool     Your  Better  NaN  NaN  NaN             -0.3612  \n",
       "1     Great      Man    Wind  NaN  NaN  NaN              0.8360  \n",
       "2      Wind     Know   Where  NaN  NaN  NaN              0.0000  \n",
       "3  Solution  Problem  Either  NaN  NaN  NaN             -0.1027  \n",
       "4      Your      Way  People  NaN  NaN  NaN              0.4215  "
      ]
     },
     "execution_count": 2,
     "metadata": {},
     "output_type": "execute_result"
    }
   ],
   "source": [
    "df = pd.read_csv('data/quotes_sentiment.csv')\n",
    "df.head()"
   ]
  },
  {
   "cell_type": "code",
   "execution_count": 4,
   "metadata": {},
   "outputs": [],
   "source": [
    "dotenv.load_dotenv()\n",
    "\n",
    "dburl = os.getenv(\"URL\")"
   ]
  },
  {
   "cell_type": "code",
   "execution_count": 5,
   "metadata": {},
   "outputs": [],
   "source": [
    "client = MongoClient(dburl)\n",
    "db = client.get_database(\"API\")\n",
    "c = db.get_collection(\"quotes\")"
   ]
  },
  {
   "cell_type": "code",
   "execution_count": 3,
   "metadata": {},
   "outputs": [
    {
     "data": {
      "text/plain": [
       "[]"
      ]
     },
     "execution_count": 3,
     "metadata": {},
     "output_type": "execute_result"
    }
   ],
   "source": [
    "list(c.find({'author': 'Alberto Pérez-Lescure'}))"
   ]
  },
  {
   "cell_type": "code",
   "execution_count": 73,
   "metadata": {},
   "outputs": [
    {
     "name": "stdout",
     "output_type": "stream",
     "text": [
      "Collecting dnspython==2.0.0\n",
      "  Downloading dnspython-2.0.0-py3-none-any.whl (208 kB)\n",
      "Installing collected packages: dnspython\n",
      "  Attempting uninstall: dnspython\n",
      "    Found existing installation: dnspython 1.16.0\n",
      "    Uninstalling dnspython-1.16.0:\n",
      "      Successfully uninstalled dnspython-1.16.0\n",
      "Successfully installed dnspython-2.0.0\n"
     ]
    }
   ],
   "source": [
    "!pip3 install dnspython==2.0.0"
   ]
  },
  {
   "cell_type": "code",
   "execution_count": 2,
   "metadata": {},
   "outputs": [],
   "source": [
    "import dns"
   ]
  },
  {
   "cell_type": "code",
   "execution_count": 14,
   "metadata": {},
   "outputs": [],
   "source": [
    "import json"
   ]
  },
  {
   "cell_type": "code",
   "execution_count": 5,
   "metadata": {},
   "outputs": [],
   "source": [
    "df.to_json(\"data/quotes_sentiment.json\", orient=\"records\")"
   ]
  },
  {
   "cell_type": "code",
   "execution_count": 15,
   "metadata": {},
   "outputs": [],
   "source": [
    "with open('data/quotes_sentiment.json') as f:\n",
    "    file_data = json.load(f)"
   ]
  },
  {
   "cell_type": "code",
   "execution_count": 1,
   "metadata": {},
   "outputs": [],
   "source": [
    "c.insert_many(file_data)"
   ]
  },
  {
   "cell_type": "code",
   "execution_count": 25,
   "metadata": {},
   "outputs": [
    {
     "name": "stderr",
     "output_type": "stream",
     "text": [
      "\"mongoimport\" no se reconoce como un comando interno o externo,\n",
      "programa o archivo por lotes ejecutable.\n"
     ]
    }
   ],
   "source": [
    "!mongoimport --db API --collection quotes --jsonArray dfjson"
   ]
  },
  {
   "cell_type": "code",
   "execution_count": 27,
   "metadata": {},
   "outputs": [],
   "source": [
    "url = \"http://localhost:5000/newquote\""
   ]
  },
  {
   "cell_type": "code",
   "execution_count": null,
   "metadata": {},
   "outputs": [],
   "source": [
    "datos = {\"quote\": f'{a}',\n",
    "    \"author\": 'Alberto Pérez-Lescure',\n",
    "    \"tag1\": 'Alberto',\n",
    "    }"
   ]
  }
 ],
 "metadata": {
  "kernelspec": {
   "display_name": "Python 3",
   "language": "python",
   "name": "python3"
  },
  "language_info": {
   "codemirror_mode": {
    "name": "ipython",
    "version": 3
   },
   "file_extension": ".py",
   "mimetype": "text/x-python",
   "name": "python",
   "nbconvert_exporter": "python",
   "pygments_lexer": "ipython3",
   "version": "3.8.5"
  }
 },
 "nbformat": 4,
 "nbformat_minor": 4
}
